{
 "cells": [
  {
   "cell_type": "code",
   "execution_count": null,
   "metadata": {},
   "outputs": [],
   "source": []
  },
  {
   "cell_type": "code",
   "execution_count": 1,
   "metadata": {},
   "outputs": [],
   "source": [
    "import nltk\n"
   ]
  },
  {
   "cell_type": "code",
   "execution_count": 2,
   "metadata": {},
   "outputs": [
    {
     "name": "stdout",
     "output_type": "stream",
     "text": [
      "[' \\n\\n \\n\\nONIN INL QN\\nMN5437!', 'HIT\\n\\nalate #H / Enrolimer\\n\\n  \\n\\nTo\\naie arte\\nNalin Bhargava\\n= 8/0: Shashank Bharg:\\n= C-112, POCKET-1 KE!']\n"
     ]
    }
   ],
   "source": [
    "from nltk.tokenize import sent_tokenize\n",
    "raw_text = open(r\"C:\\Courses\\Internship\\recognized.txt\",\"r+\") \n",
    "raw_text = raw_text.read()\n",
    "text=raw_text\n",
    "tokenized_text = sent_tokenize(text)\n",
    "print(tokenized_text)"
   ]
  },
  {
   "cell_type": "code",
   "execution_count": 3,
   "metadata": {},
   "outputs": [
    {
     "name": "stdout",
     "output_type": "stream",
     "text": [
      "['ONIN', 'INL', 'QN', 'MN5437', '!', 'HIT', 'alate', '#', 'H', '/', 'Enrolimer', 'To', 'aie', 'arte', 'Nalin', 'Bhargava', '=', '8/0', ':', 'Shashank', 'Bharg', ':', '=', 'C-112', ',', 'POCKET-1', 'KE', '!']\n"
     ]
    }
   ],
   "source": [
    "from nltk.tokenize import word_tokenize\n",
    "tokenized_word = word_tokenize(text)\n",
    "print(tokenized_word)"
   ]
  },
  {
   "cell_type": "code",
   "execution_count": 4,
   "metadata": {},
   "outputs": [
    {
     "name": "stdout",
     "output_type": "stream",
     "text": [
      "<FreqDist with 25 samples and 28 outcomes>\n"
     ]
    }
   ],
   "source": [
    "from nltk.probability import FreqDist\n",
    "fdist = FreqDist(tokenized_word)\n",
    "print(fdist)"
   ]
  },
  {
   "cell_type": "code",
   "execution_count": 5,
   "metadata": {},
   "outputs": [
    {
     "data": {
      "text/plain": [
       "[('!', 2), ('=', 2)]"
      ]
     },
     "execution_count": 5,
     "metadata": {},
     "output_type": "execute_result"
    }
   ],
   "source": [
    "fdist.most_common(2)"
   ]
  },
  {
   "cell_type": "code",
   "execution_count": 6,
   "metadata": {},
   "outputs": [
    {
     "data": {
      "image/png": "[encoded data removed]",
      "text/plain": [
       "<Figure size 432x288 with 1 Axes>"
      ]
     },
     "metadata": {
      "needs_background": "light"
     },
     "output_type": "display_data"
    }
   ],
   "source": [
    "import matplotlib.pyplot as plt\n",
    "fdist.plot(30,cumulative=False)\n",
    "plt.show()"
   ]
  },
  {
   "cell_type": "code",
   "execution_count": 7,
   "metadata": {},
   "outputs": [
    {
     "name": "stdout",
     "output_type": "stream",
     "text": [
      "{'but', 'themselves', 'as', 'my', 'has', 'just', 'mightn', 'wouldn', \"you'll\", 'by', 'weren', 'ours', 'our', \"hadn't\", 'wasn', 'and', \"doesn't\", 'with', 'o', 'to', 'myself', \"you've\", 'until', 'ma', 'm', \"won't\", 'couldn', \"she's\", 'it', 'won', 'will', 'if', 'we', 'too', 'theirs', 'did', 'the', 'from', 'most', \"don't\", 'have', 'so', 're', 'about', 'for', 'after', 'only', 'each', 'hadn', 'above', 't', 'had', 'when', 'against', 's', 'no', 'can', 'll', 'same', \"shouldn't\", 'whom', \"didn't\", \"it's\", \"that'll\", 'having', 'under', 'who', 'while', \"couldn't\", 'between', 'at', 'should', 'her', 'an', \"should've\", 'hers', 'yourselves', 've', 'its', 'isn', 'other', \"hasn't\", 'shouldn', 'why', 'himself', 'is', 'are', 'up', \"shan't\", 'further', 'over', 'were', 'i', 'not', 'how', \"weren't\", 'yours', 'on', 'down', 'some', 'doesn', 'few', 'haven', 'their', 'nor', 'his', 'those', 'doing', 'before', \"needn't\", 'am', 'being', 'through', \"isn't\", 'was', \"mustn't\", 'here', 'during', 'then', 'than', 'he', 'more', 'don', 'your', 'that', 'because', 'does', \"mightn't\", 'both', 'any', 'ourselves', 'herself', 'now', 'itself', 'very', \"haven't\", 'hasn', 'below', 'off', \"you're\", \"aren't\", 'y', 'been', 'me', 'this', 'such', 'do', 'them', 'what', 'own', 'you', 'be', 'aren', 'these', 'didn', \"you'd\", 'they', 'd', 'him', 'again', 'all', 'she', 'where', 'out', 'needn', 'ain', 'mustn', 'of', 'a', 'into', \"wouldn't\", 'which', \"wasn't\", 'once', 'in', 'or', 'shan', 'there', 'yourself'}\n"
     ]
    }
   ],
   "source": [
    "from nltk.corpus import stopwords\n",
    "stop_words = set(stopwords.words(\"english\"))\n",
    "print(stop_words)"
   ]
  },
  {
   "cell_type": "code",
   "execution_count": 8,
   "metadata": {},
   "outputs": [
    {
     "name": "stdout",
     "output_type": "stream",
     "text": [
      "tokenized sentence: [' \\n\\n \\n\\nONIN INL QN\\nMN5437!', 'HIT\\n\\nalate #H / Enrolimer\\n\\n  \\n\\nTo\\naie arte\\nNalin Bhargava\\n= 8/0: Shashank Bharg:\\n= C-112, POCKET-1 KE!']\n",
      "filtered senetence: [' \\n\\n \\n\\nONIN INL QN\\nMN5437!', 'HIT\\n\\nalate #H / Enrolimer\\n\\n  \\n\\nTo\\naie arte\\nNalin Bhargava\\n= 8/0: Shashank Bharg:\\n= C-112, POCKET-1 KE!']\n"
     ]
    }
   ],
   "source": [
    "filtered_sent = []\n",
    "for w in tokenized_text:\n",
    "    if w not in stop_words:\n",
    "        filtered_sent.append(w)\n",
    "print(\"tokenized sentence:\",tokenized_text)\n",
    "print(\"filtered senetence:\",filtered_sent)"
   ]
  },
  {
   "cell_type": "code",
   "execution_count": 9,
   "metadata": {},
   "outputs": [
    {
     "name": "stdout",
     "output_type": "stream",
     "text": [
      "Filtered Sentence: [' \\n\\n \\n\\nONIN INL QN\\nMN5437!', 'HIT\\n\\nalate #H / Enrolimer\\n\\n  \\n\\nTo\\naie arte\\nNalin Bhargava\\n= 8/0: Shashank Bharg:\\n= C-112, POCKET-1 KE!']\n",
      "Stemmed Sentence: [' \\n\\n \\n\\nonin inl qn\\nmn5437!', 'hit\\n\\nalate #h / enrolimer\\n\\n  \\n\\nto\\naie arte\\nnalin bhargava\\n= 8/0: shashank bharg:\\n= c-112, pocket-1 ke!']\n"
     ]
    }
   ],
   "source": [
    "from nltk.stem import PorterStemmer\n",
    "from nltk.tokenize import sent_tokenize, word_tokenize\n",
    "\n",
    "ps = PorterStemmer()\n",
    "\n",
    "stemmed_Words = []\n",
    "for w in filtered_sent:\n",
    "    stemmed_Words.append(ps.stem(w))\n",
    "\n",
    "print(\"Filtered Sentence:\",filtered_sent)\n",
    "print(\"Stemmed Sentence:\",stemmed_Words)"
   ]
  },
  {
   "cell_type": "code",
   "execution_count": null,
   "metadata": {},
   "outputs": [],
   "source": []
  },
  {
   "cell_type": "code",
   "execution_count": 10,
   "metadata": {},
   "outputs": [
    {
     "data": {
      "text/plain": [
       "'!\"#$%&\\'()*+,-./:;<=>?@[\\\\]^_`{|}~'"
      ]
     },
     "execution_count": 10,
     "metadata": {},
     "output_type": "execute_result"
    }
   ],
   "source": [
    "import string\n",
    "string.punctuation\n"
   ]
  },
  {
   "cell_type": "code",
   "execution_count": 11,
   "metadata": {},
   "outputs": [],
   "source": [
    "def remove_punctuation(text):\n",
    "    no_punct=[words for words in text if words not in string.punctation]\n",
    "    words_wo_punct=''.join(no_punct)\n",
    "    return words_wo_punct\n",
    "\n",
    "#stemmed_Words = remove_punctuation(stemmed_Words)"
   ]
  },
  {
   "cell_type": "code",
   "execution_count": 12,
   "metadata": {},
   "outputs": [],
   "source": [
    "with open(r\"C:\\Courses\\Internship\\recognized.txt\", \"r\") as f:\n",
    "\texpenses_txt = f.readlines()\n",
    "# Put all the lines into a single string\n",
    "whole_txt = \"\".join(expenses_txt)"
   ]
  },
  {
   "cell_type": "code",
   "execution_count": 13,
   "metadata": {},
   "outputs": [],
   "source": [
    "PATTERN = r'(^([\\d]+)([\\.]?)([\\d]*))( - )(.*)'"
   ]
  },
  {
   "cell_type": "code",
   "execution_count": 14,
   "metadata": {},
   "outputs": [
    {
     "data": {
      "text/plain": [
       "' \\n\\n \\n\\nONIN INL QN\\nMN5437!\\n\\x0c\\n\\x0c\\n \\n   \\n   \\n    \\n     \\n\\nHIT\\n\\nalate #H / Enrolimer\\n\\n  \\n\\nTo\\naie arte\\nNalin Bhargava\\n= 8/0: Shashank Bharg:\\n= C-112, POCKET-1 KE!\\n\\n \\n\\x0c\\n'"
      ]
     },
     "execution_count": 14,
     "metadata": {},
     "output_type": "execute_result"
    }
   ],
   "source": [
    "whole_txt\n"
   ]
  },
  {
   "cell_type": "code",
   "execution_count": 15,
   "metadata": {},
   "outputs": [
    {
     "name": "stderr",
     "output_type": "stream",
     "text": [
      "<ipython-input-15-2c8b7a18b50a>:3: DeprecationWarning: The unescape method is deprecated and will be removed in 3.5, use html.unescape() instead.\n",
      "  whole_txt = HTMLParser().unescape(whole_txt)\n"
     ]
    },
    {
     "data": {
      "text/plain": [
       "' \\n\\n \\n\\nONIN INL QN\\nMN5437!\\n\\x0c\\n\\x0c\\n \\n   \\n   \\n    \\n     \\n\\nHIT\\n\\nalate #H / Enrolimer\\n\\n  \\n\\nTo\\naie arte\\nNalin Bhargava\\n= 8/0: Shashank Bharg:\\n= C-112, POCKET-1 KE!\\n\\n \\n\\x0c\\n'"
      ]
     },
     "execution_count": 15,
     "metadata": {},
     "output_type": "execute_result"
    }
   ],
   "source": [
    "from html.parser import HTMLParser\n",
    "\n",
    "whole_txt = HTMLParser().unescape(whole_txt)\n",
    "whole_txt"
   ]
  },
  {
   "cell_type": "code",
   "execution_count": 16,
   "metadata": {},
   "outputs": [
    {
     "data": {
      "text/plain": [
       "' \\n\\n \\n\\nONIN INL QN\\nMN5437!\\n\\x0c\\n\\x0c\\n \\n   \\n   \\n    \\n     \\n\\nHIT\\n\\nalate H / Enrolimer\\n\\n  \\n\\nTo\\naie arte\\nNalin Bhargava\\n= 8/0: Shashank Bharg:\\n= C-112, POCKET-1 KE!\\n\\n \\n\\x0c\\n'"
      ]
     },
     "execution_count": 16,
     "metadata": {},
     "output_type": "execute_result"
    }
   ],
   "source": [
    "import re \n",
    "\n",
    "whole_txt = re.sub(r'https?:\\/\\/.\\S+',\"\",whole_txt)\n",
    "\n",
    "whole_txt = re.sub(r'#','',whole_txt)\n",
    "\n",
    "whole_txt = re.sub(r'^RT[\\s]+','',whole_txt)\n",
    "\n",
    "whole_txt"
   ]
  },
  {
   "cell_type": "code",
   "execution_count": 17,
   "metadata": {},
   "outputs": [
    {
     "data": {
      "text/plain": [
       "'  ONIN INL QNMN5437!\\x0c\\x0c                HITalate H / Enrolimer  Toaie arteNalin Bhargava= 8/0: Shashank Bharg:= C-112, POCKET-1 KE! \\x0c'"
      ]
     },
     "execution_count": 17,
     "metadata": {},
     "output_type": "execute_result"
    }
   ],
   "source": [
    "whole_txt = re.sub(\"\\n\",\"\",whole_txt)\n",
    "whole_txt"
   ]
  },
  {
   "cell_type": "code",
   "execution_count": 18,
   "metadata": {},
   "outputs": [
    {
     "data": {
      "text/plain": [
       "'  ONIN INL QNMN5437!                HITalate H / Enrolimer  Toaie arteNalin Bhargava= 8/0: Shashank Bharg:= C-112, POCKET-1 KE! '"
      ]
     },
     "execution_count": 18,
     "metadata": {},
     "output_type": "execute_result"
    }
   ],
   "source": [
    "whole_txt = re.sub(\"\\x0c\",\"\",whole_txt)\n",
    "whole_txt"
   ]
  },
  {
   "cell_type": "code",
   "execution_count": 22,
   "metadata": {},
   "outputs": [
    {
     "name": "stdout",
     "output_type": "stream",
     "text": [
      "ONIN INL QNMN5437 PERSON\n",
      "Enrolimer  Toaie arteNalin PERSON\n",
      "Shashank Bharg:= C-112 ORG\n"
     ]
    },
    {
     "data": {
      "text/html": [
       "<span class=\"tex2jax_ignore\"><div class=\"entities\" style=\"line-height: 2.5; direction: ltr\">  \n",
       "<mark class=\"entity\" style=\"background: #aa9cfc; padding: 0.45em 0.6em; margin: 0 0.25em; line-height: 1; border-radius: 0.35em;\">\n",
       "    ONIN INL QNMN5437\n",
       "    <span style=\"font-size: 0.8em; font-weight: bold; line-height: 1; border-radius: 0.35em; vertical-align: middle; margin-left: 0.5rem\">PERSON</span>\n",
       "</mark>\n",
       "!                HITalate H / \n",
       "<mark class=\"entity\" style=\"background: #aa9cfc; padding: 0.45em 0.6em; margin: 0 0.25em; line-height: 1; border-radius: 0.35em;\">\n",
       "    Enrolimer  Toaie arteNalin\n",
       "    <span style=\"font-size: 0.8em; font-weight: bold; line-height: 1; border-radius: 0.35em; vertical-align: middle; margin-left: 0.5rem\">PERSON</span>\n",
       "</mark>\n",
       " Bhargava= 8/0: \n",
       "<mark class=\"entity\" style=\"background: #7aecec; padding: 0.45em 0.6em; margin: 0 0.25em; line-height: 1; border-radius: 0.35em;\">\n",
       "    Shashank Bharg:= C-112\n",
       "    <span style=\"font-size: 0.8em; font-weight: bold; line-height: 1; border-radius: 0.35em; vertical-align: middle; margin-left: 0.5rem\">ORG</span>\n",
       "</mark>\n",
       ", POCKET-1 KE! </div></span>"
      ],
      "text/plain": [
       "<IPython.core.display.HTML object>"
      ]
     },
     "metadata": {},
     "output_type": "display_data"
    }
   ],
   "source": [
    "import spacy\n",
    "import pandas as pd\n",
    "\n",
    "from spacy import displacy\n",
    "\n",
    "NER = spacy.load(\"en_core_web_lg\")\n",
    "\n",
    "#raw_text = open(r\"C:\\Courses\\Internship\\recognized.txt\",\"r+\") \n",
    "#raw_text = raw_text.read()\n",
    "\n",
    "text1 = NER(whole_txt)\n",
    "\n",
    "for word in text1.ents:\n",
    "\tprint(word.text,word.label_)\n",
    "\n",
    "displacy.render(text1,style=\"ent\",jupyter=True)"
   ]
  },
  {
   "cell_type": "code",
   "execution_count": null,
   "metadata": {},
   "outputs": [],
   "source": []
  }
 ],
 "metadata": {
  "kernelspec": {
   "display_name": "Python 3",
   "language": "python",
   "name": "python3"
  },
  "language_info": {
   "codemirror_mode": {
    "name": "ipython",
    "version": 3
   },
   "file_extension": ".py",
   "mimetype": "text/x-python",
   "name": "python",
   "nbconvert_exporter": "python",
   "pygments_lexer": "ipython3",
   "version": "3.8.3"
  }
 },
 "nbformat": 4,
 "nbformat_minor": 4
}
