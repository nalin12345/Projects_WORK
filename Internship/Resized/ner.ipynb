{
 "cells": [
  {
   "cell_type": "code",
   "execution_count": null,
   "metadata": {},
   "outputs": [],
   "source": []
  },
  {
   "cell_type": "code",
   "execution_count": 1,
   "metadata": {},
   "outputs": [],
   "source": [
    "import nltk\n"
   ]
  },
  {
   "cell_type": "code",
   "execution_count": 2,
   "metadata": {},
   "outputs": [
    {
     "name": "stdout",
     "output_type": "stream",
     "text": [
      "[' \\n\\x0c\\n \\n\\n   \\n \\n\\n  \\n\\nwm fef& / DOB : 21/01/2001\\nFt / Male\\n\\n \\n\\n \\n\\x0c\\n0618\\n\\x0c\\n9781\\n\\x0c\\n7507\\n\\x0c\\n \\n\\n \\n\\n2 VOD\\ni rn\\n\\n \\n\\n \\n\\nSITHT STE HATH / Your Aadhaar No.', ':\\n\\n \\n\\x0c\\n \\n\\nTo\\naia arte\\n‘Nalin Bhargava\\n= 5/0: Shashank Bhargava\\n& C-112, POCKET-1 KENDRIYA VIHAR-2\\nSECTOR-82\\nNoida\\n” Noida\\n‘Gautam Buddha Nagar Gautam Buddha Nagar\\nUttar Pradesh 201301\\n\\n \\n\\n \\n\\x0c\\n\\x0c\\n \\n\\nHANA GH\\n\\naTaTea #A / Enroliment No.', ': 2019/22072/05296\\n\\na8 ata\\n\\nNalin Bhargava\\nS/O: Shashank Bhargava']\n"
     ]
    }
   ],
   "source": [
    "from nltk.tokenize import sent_tokenize\n",
    "raw_text = open(r\"C:\\Courses\\Internship\\recognized.txt\",\"r+\") \n",
    "raw_text = raw_text.read()\n",
    "text=raw_text\n",
    "tokenized_text = sent_tokenize(text)\n",
    "print(tokenized_text)"
   ]
  },
  {
   "cell_type": "code",
   "execution_count": 3,
   "metadata": {},
   "outputs": [
    {
     "name": "stdout",
     "output_type": "stream",
     "text": [
      "['wm', 'fef', '&', '/', 'DOB', ':', '21/01/2001', 'Ft', '/', 'Male', '0618', '9781', '7507', '2', 'VOD', 'i', 'rn', 'SITHT', 'STE', 'HATH', '/', 'Your', 'Aadhaar', 'No', '.', ':', 'To', 'aia', 'arte', '‘', 'Nalin', 'Bhargava', '=', '5/0', ':', 'Shashank', 'Bhargava', '&', 'C-112', ',', 'POCKET-1', 'KENDRIYA', 'VIHAR-2', 'SECTOR-82', 'Noida', '”', 'Noida', '‘', 'Gautam', 'Buddha', 'Nagar', 'Gautam', 'Buddha', 'Nagar', 'Uttar', 'Pradesh', '201301', 'HANA', 'GH', 'aTaTea', '#', 'A', '/', 'Enroliment', 'No', '.', ':', '2019/22072/05296', 'a8', 'ata', 'Nalin', 'Bhargava', 'S/O', ':', 'Shashank', 'Bhargava']\n"
     ]
    }
   ],
   "source": [
    "from nltk.tokenize import word_tokenize\n",
    "tokenized_word = word_tokenize(text)\n",
    "print(tokenized_word)"
   ]
  },
  {
   "cell_type": "code",
   "execution_count": 4,
   "metadata": {},
   "outputs": [
    {
     "name": "stdout",
     "output_type": "stream",
     "text": [
      "<FreqDist with 56 samples and 76 outcomes>\n"
     ]
    }
   ],
   "source": [
    "from nltk.probability import FreqDist\n",
    "fdist = FreqDist(tokenized_word)\n",
    "print(fdist)"
   ]
  },
  {
   "cell_type": "code",
   "execution_count": 5,
   "metadata": {},
   "outputs": [
    {
     "data": {
      "text/plain": [
       "[(':', 5), ('/', 4)]"
      ]
     },
     "execution_count": 5,
     "metadata": {},
     "output_type": "execute_result"
    }
   ],
   "source": [
    "fdist.most_common(2)"
   ]
  },
  {
   "cell_type": "code",
   "execution_count": 6,
   "metadata": {},
   "outputs": [
    {
     "data": {
      "image/png": "[encoded data removed]",
      "text/plain": [
       "<Figure size 432x288 with 1 Axes>"
      ]
     },
     "metadata": {
      "needs_background": "light"
     },
     "output_type": "display_data"
    }
   ],
   "source": [
    "import matplotlib.pyplot as plt\n",
    "fdist.plot(30,cumulative=False)\n",
    "plt.show()"
   ]
  },
  {
   "cell_type": "code",
   "execution_count": 7,
   "metadata": {},
   "outputs": [
    {
     "name": "stdout",
     "output_type": "stream",
     "text": [
      "{'each', 'can', 'further', 'shan', 'against', 'which', 'my', \"shouldn't\", \"you're\", \"hasn't\", \"mightn't\", 'y', 'with', 'only', 'the', 'up', 'they', 'than', 'before', 'theirs', 'his', 'here', 'very', 'under', 'doing', 'in', 'o', 'had', 'those', 'she', 'does', 'hers', 'i', \"should've\", 'am', 'now', 'this', 'ourselves', 'yourselves', 'above', 'needn', 'most', 'below', 'that', 'her', 'was', 'because', 'while', 'so', 'we', \"couldn't\", 'wouldn', \"shan't\", 'a', 'or', 'there', \"didn't\", 'such', 'hasn', 'were', 'been', 'on', \"don't\", \"haven't\", 'he', 'how', \"mustn't\", 'to', 'who', 'just', 'from', 'him', 'any', 'into', \"hadn't\", 'too', 'same', 'mustn', 'of', 'has', 'yourself', 'themselves', 'have', 'll', 'when', 'be', 'having', 'and', 'if', 'ain', 'them', \"isn't\", 'is', 'its', 'd', 'over', 'at', 'once', 'shouldn', \"weren't\", 'between', 'aren', 'ours', \"you'll\", 'why', 'do', 'down', 'more', 'hadn', \"she's\", 'you', 'own', 'yours', 'couldn', 'then', 'all', 'will', 'don', 'no', 'few', 'other', \"that'll\", 'your', 'until', 'haven', \"wasn't\", 'these', 'didn', \"doesn't\", 'mightn', 'isn', \"won't\", 've', 'what', 'won', 'our', 'whom', 'an', 'herself', \"it's\", \"you'd\", 'himself', 're', 'where', 'during', 't', 'by', 'itself', \"wouldn't\", 'm', 'are', 'their', 'did', 'about', 'but', 'wasn', \"you've\", 's', 'for', 'not', 'after', \"aren't\", \"needn't\", 'nor', 'weren', 'out', 'being', 'both', 'through', 'it', 'again', 'ma', 'as', 'some', 'myself', 'should', 'doesn', 'off', 'me'}\n"
     ]
    }
   ],
   "source": [
    "from nltk.corpus import stopwords\n",
    "stop_words = set(stopwords.words(\"english\"))\n",
    "print(stop_words)"
   ]
  },
  {
   "cell_type": "code",
   "execution_count": 8,
   "metadata": {},
   "outputs": [
    {
     "name": "stdout",
     "output_type": "stream",
     "text": [
      "tokenized sentence: [' \\n\\x0c\\n \\n\\n   \\n \\n\\n  \\n\\nwm fef& / DOB : 21/01/2001\\nFt / Male\\n\\n \\n\\n \\n\\x0c\\n0618\\n\\x0c\\n9781\\n\\x0c\\n7507\\n\\x0c\\n \\n\\n \\n\\n2 VOD\\ni rn\\n\\n \\n\\n \\n\\nSITHT STE HATH / Your Aadhaar No.', ':\\n\\n \\n\\x0c\\n \\n\\nTo\\naia arte\\n‘Nalin Bhargava\\n= 5/0: Shashank Bhargava\\n& C-112, POCKET-1 KENDRIYA VIHAR-2\\nSECTOR-82\\nNoida\\n” Noida\\n‘Gautam Buddha Nagar Gautam Buddha Nagar\\nUttar Pradesh 201301\\n\\n \\n\\n \\n\\x0c\\n\\x0c\\n \\n\\nHANA GH\\n\\naTaTea #A / Enroliment No.', ': 2019/22072/05296\\n\\na8 ata\\n\\nNalin Bhargava\\nS/O: Shashank Bhargava']\n",
      "filtered senetence: [' \\n\\x0c\\n \\n\\n   \\n \\n\\n  \\n\\nwm fef& / DOB : 21/01/2001\\nFt / Male\\n\\n \\n\\n \\n\\x0c\\n0618\\n\\x0c\\n9781\\n\\x0c\\n7507\\n\\x0c\\n \\n\\n \\n\\n2 VOD\\ni rn\\n\\n \\n\\n \\n\\nSITHT STE HATH / Your Aadhaar No.', ':\\n\\n \\n\\x0c\\n \\n\\nTo\\naia arte\\n‘Nalin Bhargava\\n= 5/0: Shashank Bhargava\\n& C-112, POCKET-1 KENDRIYA VIHAR-2\\nSECTOR-82\\nNoida\\n” Noida\\n‘Gautam Buddha Nagar Gautam Buddha Nagar\\nUttar Pradesh 201301\\n\\n \\n\\n \\n\\x0c\\n\\x0c\\n \\n\\nHANA GH\\n\\naTaTea #A / Enroliment No.', ': 2019/22072/05296\\n\\na8 ata\\n\\nNalin Bhargava\\nS/O: Shashank Bhargava']\n"
     ]
    }
   ],
   "source": [
    "filtered_sent = []\n",
    "for w in tokenized_text:\n",
    "    if w not in stop_words:\n",
    "        filtered_sent.append(w)\n",
    "print(\"tokenized sentence:\",tokenized_text)\n",
    "print(\"filtered senetence:\",filtered_sent)"
   ]
  },
  {
   "cell_type": "code",
   "execution_count": 9,
   "metadata": {},
   "outputs": [
    {
     "name": "stdout",
     "output_type": "stream",
     "text": [
      "Filtered Sentence: [' \\n\\x0c\\n \\n\\n   \\n \\n\\n  \\n\\nwm fef& / DOB : 21/01/2001\\nFt / Male\\n\\n \\n\\n \\n\\x0c\\n0618\\n\\x0c\\n9781\\n\\x0c\\n7507\\n\\x0c\\n \\n\\n \\n\\n2 VOD\\ni rn\\n\\n \\n\\n \\n\\nSITHT STE HATH / Your Aadhaar No.', ':\\n\\n \\n\\x0c\\n \\n\\nTo\\naia arte\\n‘Nalin Bhargava\\n= 5/0: Shashank Bhargava\\n& C-112, POCKET-1 KENDRIYA VIHAR-2\\nSECTOR-82\\nNoida\\n” Noida\\n‘Gautam Buddha Nagar Gautam Buddha Nagar\\nUttar Pradesh 201301\\n\\n \\n\\n \\n\\x0c\\n\\x0c\\n \\n\\nHANA GH\\n\\naTaTea #A / Enroliment No.', ': 2019/22072/05296\\n\\na8 ata\\n\\nNalin Bhargava\\nS/O: Shashank Bhargava']\n",
      "Stemmed Sentence: [' \\n\\x0c\\n \\n\\n   \\n \\n\\n  \\n\\nwm fef& / dob : 21/01/2001\\nft / male\\n\\n \\n\\n \\n\\x0c\\n0618\\n\\x0c\\n9781\\n\\x0c\\n7507\\n\\x0c\\n \\n\\n \\n\\n2 vod\\ni rn\\n\\n \\n\\n \\n\\nsitht ste hath / your aadhaar no.', ':\\n\\n \\n\\x0c\\n \\n\\nto\\naia arte\\n‘nalin bhargava\\n= 5/0: shashank bhargava\\n& c-112, pocket-1 kendriya vihar-2\\nsector-82\\nnoida\\n” noida\\n‘gautam buddha nagar gautam buddha nagar\\nuttar pradesh 201301\\n\\n \\n\\n \\n\\x0c\\n\\x0c\\n \\n\\nhana gh\\n\\natatea #a / enroliment no.', ': 2019/22072/05296\\n\\na8 ata\\n\\nnalin bhargava\\ns/o: shashank bhargava']\n"
     ]
    }
   ],
   "source": [
    "from nltk.stem import PorterStemmer\n",
    "from nltk.tokenize import sent_tokenize, word_tokenize\n",
    "\n",
    "ps = PorterStemmer()\n",
    "\n",
    "stemmed_Words = []\n",
    "for w in filtered_sent:\n",
    "    stemmed_Words.append(ps.stem(w))\n",
    "\n",
    "print(\"Filtered Sentence:\",filtered_sent)\n",
    "print(\"Stemmed Sentence:\",stemmed_Words)"
   ]
  },
  {
   "cell_type": "code",
   "execution_count": null,
   "metadata": {},
   "outputs": [],
   "source": []
  },
  {
   "cell_type": "code",
   "execution_count": 10,
   "metadata": {},
   "outputs": [
    {
     "data": {
      "text/plain": [
       "'!\"#$%&\\'()*+,-./:;<=>?@[\\\\]^_`{|}~'"
      ]
     },
     "execution_count": 10,
     "metadata": {},
     "output_type": "execute_result"
    }
   ],
   "source": [
    "import string\n",
    "string.punctuation\n"
   ]
  },
  {
   "cell_type": "code",
   "execution_count": 11,
   "metadata": {},
   "outputs": [],
   "source": [
    "def remove_punctuation(text):\n",
    "    no_punct=[words for words in text if words not in string.punctation]\n",
    "    words_wo_punct=''.join(no_punct)\n",
    "    return words_wo_punct\n",
    "\n",
    "#stemmed_Words = remove_punctuation(stemmed_Words)"
   ]
  },
  {
   "cell_type": "code",
   "execution_count": 13,
   "metadata": {},
   "outputs": [],
   "source": [
    "with open(r\"C:\\Courses\\Internship\\recognized.txt\", \"r\") as f:\n",
    "\texpenses_txt = f.readlines()\n",
    "# Put all the lines into a single string\n",
    "whole_txt = \"\".join(expenses_txt)"
   ]
  },
  {
   "cell_type": "code",
   "execution_count": 14,
   "metadata": {},
   "outputs": [],
   "source": [
    "PATTERN = r'(^([\\d]+)([\\.]?)([\\d]*))( - )(.*)'"
   ]
  },
  {
   "cell_type": "code",
   "execution_count": 15,
   "metadata": {},
   "outputs": [
    {
     "data": {
      "text/plain": [
       "' \\n\\x0c\\n \\n\\n   \\n \\n\\n  \\n\\nwm fef& / DOB : 21/01/2001\\nFt / Male\\n\\n \\n\\n \\n\\x0c\\n0618\\n\\x0c\\n9781\\n\\x0c\\n7507\\n\\x0c\\n \\n\\n \\n\\n2 VOD\\ni rn\\n\\n \\n\\n \\n\\nSITHT STE HATH / Your Aadhaar No. :\\n\\n \\n\\x0c\\n \\n\\nTo\\naia arte\\n‘Nalin Bhargava\\n= 5/0: Shashank Bhargava\\n& C-112, POCKET-1 KENDRIYA VIHAR-2\\nSECTOR-82\\nNoida\\n” Noida\\n‘Gautam Buddha Nagar Gautam Buddha Nagar\\nUttar Pradesh 201301\\n\\n \\n\\n \\n\\x0c\\n\\x0c\\n \\n\\nHANA GH\\n\\naTaTea #A / Enroliment No.: 2019/22072/05296\\n\\na8 ata\\n\\nNalin Bhargava\\nS/O: Shashank Bhargava\\n\\n \\n\\n \\n\\x0c\\n'"
      ]
     },
     "execution_count": 15,
     "metadata": {},
     "output_type": "execute_result"
    }
   ],
   "source": [
    "whole_txt\n"
   ]
  },
  {
   "cell_type": "code",
   "execution_count": 16,
   "metadata": {},
   "outputs": [
    {
     "name": "stderr",
     "output_type": "stream",
     "text": [
      "<ipython-input-16-2c8b7a18b50a>:3: DeprecationWarning: The unescape method is deprecated and will be removed in 3.5, use html.unescape() instead.\n",
      "  whole_txt = HTMLParser().unescape(whole_txt)\n"
     ]
    },
    {
     "data": {
      "text/plain": [
       "' \\n\\x0c\\n \\n\\n   \\n \\n\\n  \\n\\nwm fef& / DOB : 21/01/2001\\nFt / Male\\n\\n \\n\\n \\n\\x0c\\n0618\\n\\x0c\\n9781\\n\\x0c\\n7507\\n\\x0c\\n \\n\\n \\n\\n2 VOD\\ni rn\\n\\n \\n\\n \\n\\nSITHT STE HATH / Your Aadhaar No. :\\n\\n \\n\\x0c\\n \\n\\nTo\\naia arte\\n‘Nalin Bhargava\\n= 5/0: Shashank Bhargava\\n& C-112, POCKET-1 KENDRIYA VIHAR-2\\nSECTOR-82\\nNoida\\n” Noida\\n‘Gautam Buddha Nagar Gautam Buddha Nagar\\nUttar Pradesh 201301\\n\\n \\n\\n \\n\\x0c\\n\\x0c\\n \\n\\nHANA GH\\n\\naTaTea #A / Enroliment No.: 2019/22072/05296\\n\\na8 ata\\n\\nNalin Bhargava\\nS/O: Shashank Bhargava\\n\\n \\n\\n \\n\\x0c\\n'"
      ]
     },
     "execution_count": 16,
     "metadata": {},
     "output_type": "execute_result"
    }
   ],
   "source": [
    "from html.parser import HTMLParser\n",
    "\n",
    "whole_txt = HTMLParser().unescape(whole_txt)\n",
    "whole_txt"
   ]
  },
  {
   "cell_type": "code",
   "execution_count": 17,
   "metadata": {},
   "outputs": [
    {
     "data": {
      "text/plain": [
       "' \\n\\x0c\\n \\n\\n   \\n \\n\\n  \\n\\nwm fef& / DOB : 21/01/2001\\nFt / Male\\n\\n \\n\\n \\n\\x0c\\n0618\\n\\x0c\\n9781\\n\\x0c\\n7507\\n\\x0c\\n \\n\\n \\n\\n2 VOD\\ni rn\\n\\n \\n\\n \\n\\nSITHT STE HATH / Your Aadhaar No. :\\n\\n \\n\\x0c\\n \\n\\nTo\\naia arte\\n‘Nalin Bhargava\\n= 5/0: Shashank Bhargava\\n& C-112, POCKET-1 KENDRIYA VIHAR-2\\nSECTOR-82\\nNoida\\n” Noida\\n‘Gautam Buddha Nagar Gautam Buddha Nagar\\nUttar Pradesh 201301\\n\\n \\n\\n \\n\\x0c\\n\\x0c\\n \\n\\nHANA GH\\n\\naTaTea A / Enroliment No.: 2019/22072/05296\\n\\na8 ata\\n\\nNalin Bhargava\\nS/O: Shashank Bhargava\\n\\n \\n\\n \\n\\x0c\\n'"
      ]
     },
     "execution_count": 17,
     "metadata": {},
     "output_type": "execute_result"
    }
   ],
   "source": [
    "import re \n",
    "\n",
    "whole_txt = re.sub(r'https?:\\/\\/.\\S+',\"\",whole_txt)\n",
    "\n",
    "whole_txt = re.sub(r'#','',whole_txt)\n",
    "\n",
    "whole_txt = re.sub(r'^RT[\\s]+','',whole_txt)\n",
    "\n",
    "whole_txt"
   ]
  },
  {
   "cell_type": "code",
   "execution_count": 18,
   "metadata": {},
   "outputs": [
    {
     "data": {
      "text/plain": [
       "' \\x0c       wm fef& / DOB : 21/01/2001Ft / Male  \\x0c0618\\x0c9781\\x0c7507\\x0c  2 VODi rn  SITHT STE HATH / Your Aadhaar No. : \\x0c Toaia arte‘Nalin Bhargava= 5/0: Shashank Bhargava& C-112, POCKET-1 KENDRIYA VIHAR-2SECTOR-82Noida” Noida‘Gautam Buddha Nagar Gautam Buddha NagarUttar Pradesh 201301  \\x0c\\x0c HANA GHaTaTea A / Enroliment No.: 2019/22072/05296a8 ataNalin BhargavaS/O: Shashank Bhargava  \\x0c'"
      ]
     },
     "execution_count": 18,
     "metadata": {},
     "output_type": "execute_result"
    }
   ],
   "source": [
    "whole_txt = re.sub(\"\\n\",\"\",whole_txt)\n",
    "whole_txt"
   ]
  },
  {
   "cell_type": "code",
   "execution_count": 19,
   "metadata": {},
   "outputs": [
    {
     "data": {
      "text/plain": [
       "'        wm fef& / DOB : 21/01/2001Ft / Male  061897817507  2 VODi rn  SITHT STE HATH / Your Aadhaar No. :  Toaia arte‘Nalin Bhargava= 5/0: Shashank Bhargava& C-112, POCKET-1 KENDRIYA VIHAR-2SECTOR-82Noida” Noida‘Gautam Buddha Nagar Gautam Buddha NagarUttar Pradesh 201301   HANA GHaTaTea A / Enroliment No.: 2019/22072/05296a8 ataNalin BhargavaS/O: Shashank Bhargava  '"
      ]
     },
     "execution_count": 19,
     "metadata": {},
     "output_type": "execute_result"
    }
   ],
   "source": [
    "whole_txt = re.sub(\"\\x0c\",\"\",whole_txt)\n",
    "whole_txt"
   ]
  },
  {
   "cell_type": "code",
   "execution_count": 22,
   "metadata": {},
   "outputs": [
    {
     "name": "stdout",
     "output_type": "stream",
     "text": [
      "21/01/2001Ft CARDINAL\n",
      "arte‘Nalin PERSON\n",
      "5/0 CARDINAL\n",
      "Shashank Bhargava& C-112 ORG\n",
      "Noida‘Gautam Buddha Nagar Gautam Buddha PERSON\n",
      "2019/22072/05296a8 CARDINAL\n",
      "ataNalin BhargavaS PERSON\n",
      "Shashank Bhargava   PERSON\n"
     ]
    },
    {
     "data": {
      "text/html": [
       "<span class=\"tex2jax_ignore\"><div class=\"entities\" style=\"line-height: 2.5; direction: ltr\">        wm fef&amp; / DOB : \n",
       "<mark class=\"entity\" style=\"background: #e4e7d2; padding: 0.45em 0.6em; margin: 0 0.25em; line-height: 1; border-radius: 0.35em;\">\n",
       "    21/01/2001Ft\n",
       "    <span style=\"font-size: 0.8em; font-weight: bold; line-height: 1; border-radius: 0.35em; vertical-align: middle; margin-left: 0.5rem\">CARDINAL</span>\n",
       "</mark>\n",
       " / Male  061897817507  2 VODi rn  SITHT STE HATH / Your Aadhaar No. :  Toaia \n",
       "<mark class=\"entity\" style=\"background: #aa9cfc; padding: 0.45em 0.6em; margin: 0 0.25em; line-height: 1; border-radius: 0.35em;\">\n",
       "    arte‘Nalin\n",
       "    <span style=\"font-size: 0.8em; font-weight: bold; line-height: 1; border-radius: 0.35em; vertical-align: middle; margin-left: 0.5rem\">PERSON</span>\n",
       "</mark>\n",
       " Bhargava= \n",
       "<mark class=\"entity\" style=\"background: #e4e7d2; padding: 0.45em 0.6em; margin: 0 0.25em; line-height: 1; border-radius: 0.35em;\">\n",
       "    5/0\n",
       "    <span style=\"font-size: 0.8em; font-weight: bold; line-height: 1; border-radius: 0.35em; vertical-align: middle; margin-left: 0.5rem\">CARDINAL</span>\n",
       "</mark>\n",
       ": \n",
       "<mark class=\"entity\" style=\"background: #7aecec; padding: 0.45em 0.6em; margin: 0 0.25em; line-height: 1; border-radius: 0.35em;\">\n",
       "    Shashank Bhargava&amp; C-112\n",
       "    <span style=\"font-size: 0.8em; font-weight: bold; line-height: 1; border-radius: 0.35em; vertical-align: middle; margin-left: 0.5rem\">ORG</span>\n",
       "</mark>\n",
       ", POCKET-1 KENDRIYA VIHAR-2SECTOR-82Noida” \n",
       "<mark class=\"entity\" style=\"background: #aa9cfc; padding: 0.45em 0.6em; margin: 0 0.25em; line-height: 1; border-radius: 0.35em;\">\n",
       "    Noida‘Gautam Buddha Nagar Gautam Buddha\n",
       "    <span style=\"font-size: 0.8em; font-weight: bold; line-height: 1; border-radius: 0.35em; vertical-align: middle; margin-left: 0.5rem\">PERSON</span>\n",
       "</mark>\n",
       " NagarUttar Pradesh 201301   HANA GHaTaTea A / Enroliment No.: \n",
       "<mark class=\"entity\" style=\"background: #e4e7d2; padding: 0.45em 0.6em; margin: 0 0.25em; line-height: 1; border-radius: 0.35em;\">\n",
       "    2019/22072/05296a8\n",
       "    <span style=\"font-size: 0.8em; font-weight: bold; line-height: 1; border-radius: 0.35em; vertical-align: middle; margin-left: 0.5rem\">CARDINAL</span>\n",
       "</mark>\n",
       " \n",
       "<mark class=\"entity\" style=\"background: #aa9cfc; padding: 0.45em 0.6em; margin: 0 0.25em; line-height: 1; border-radius: 0.35em;\">\n",
       "    ataNalin BhargavaS\n",
       "    <span style=\"font-size: 0.8em; font-weight: bold; line-height: 1; border-radius: 0.35em; vertical-align: middle; margin-left: 0.5rem\">PERSON</span>\n",
       "</mark>\n",
       "/O: \n",
       "<mark class=\"entity\" style=\"background: #aa9cfc; padding: 0.45em 0.6em; margin: 0 0.25em; line-height: 1; border-radius: 0.35em;\">\n",
       "    Shashank Bhargava  \n",
       "    <span style=\"font-size: 0.8em; font-weight: bold; line-height: 1; border-radius: 0.35em; vertical-align: middle; margin-left: 0.5rem\">PERSON</span>\n",
       "</mark>\n",
       "</div></span>"
      ],
      "text/plain": [
       "<IPython.core.display.HTML object>"
      ]
     },
     "metadata": {},
     "output_type": "display_data"
    }
   ],
   "source": [
    "import spacy\n",
    "import pandas as pd\n",
    "\n",
    "from spacy import displacy\n",
    "\n",
    "NER = spacy.load(\"en_core_web_md\")\n",
    "\n",
    "#raw_text = open(r\"C:\\Courses\\Internship\\recognized.txt\",\"r+\") \n",
    "#raw_text = raw_text.read()\n",
    "\n",
    "text1 = NER(whole_txt)\n",
    "\n",
    "for word in text1.ents:\n",
    "\tprint(word.text,word.label_)\n",
    "\n",
    "displacy.render(text1,style=\"ent\",jupyter=True)"
   ]
  },
  {
   "cell_type": "code",
   "execution_count": null,
   "metadata": {},
   "outputs": [],
   "source": []
  }
 ],
 "metadata": {
  "kernelspec": {
   "display_name": "Python 3",
   "language": "python",
   "name": "python3"
  },
  "language_info": {
   "codemirror_mode": {
    "name": "ipython",
    "version": 3
   },
   "file_extension": ".py",
   "mimetype": "text/x-python",
   "name": "python",
   "nbconvert_exporter": "python",
   "pygments_lexer": "ipython3",
   "version": "3.8.3"
  }
 },
 "nbformat": 4,
 "nbformat_minor": 4
}
