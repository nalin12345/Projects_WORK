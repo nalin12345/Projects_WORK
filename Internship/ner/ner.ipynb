{
 "cells": [
  {
   "cell_type": "code",
   "execution_count": null,
   "metadata": {},
   "outputs": [],
   "source": []
  },
  {
   "cell_type": "code",
   "execution_count": 47,
   "metadata": {},
   "outputs": [],
   "source": [
    "import nltk\n"
   ]
  },
  {
   "cell_type": "code",
   "execution_count": 48,
   "metadata": {},
   "outputs": [
    {
     "name": "stdout",
     "output_type": "stream",
     "text": [
      "[' \\n\\x0c\\n \\n\\n   \\n  \\n\\nNalin Bhargava\\nwen fa / DOB : 21/01/2001\\nFP Male\\n\\n \\n\\n \\n\\n \\n\\x0c\\n0618\\n\\x0c\\n9781\\n\\x0c\\n7507\\n\\x0c\\n \\n\\n \\n\\n2 PTAA\\n\\nMN543752933FT\\n\\n \\n\\n \\n\\nFTTT 3G HATH / Your Aadhaar No.', ':\\n\\n \\n\\n \\n\\x0c\\n\\x0c\\n \\n\\n> S/O: Shashank Bhargava\\n© 6-112, POCKET-1 KENDRIVA VIHAR-2\\nSECTOR-62\\nNoida\\n” Noida\\n‘Gautam Buddha Nagar Gautam Buddha Nagar\\n\\n \\n\\n \\n\\x0c\\n\\x0c\\n \\n\\nHRA UPN\\n\\nTale #H / Enrollment No.', ': 2019/22072/05296\\n\\nTo\\n\\nNalin Bhargava\\nS/O: Shashank Bhargava']\n"
     ]
    }
   ],
   "source": [
    "from nltk.tokenize import sent_tokenize\n",
    "raw_text = open(r\"C:\\Courses\\Internship\\recognized.txt\",\"r+\") \n",
    "raw_text = raw_text.read()\n",
    "text=raw_text\n",
    "tokenized_text = sent_tokenize(text)\n",
    "print(tokenized_text)"
   ]
  },
  {
   "cell_type": "code",
   "execution_count": 50,
   "metadata": {},
   "outputs": [
    {
     "name": "stdout",
     "output_type": "stream",
     "text": [
      "['Nalin', 'Bhargava', 'wen', 'fa', '/', 'DOB', ':', '21/01/2001', 'FP', 'Male', '0618', '9781', '7507', '2', 'PTAA', 'MN543752933FT', 'FTTT', '3G', 'HATH', '/', 'Your', 'Aadhaar', 'No', '.', ':', '>', 'S/O', ':', 'Shashank', 'Bhargava', '©', '6-112', ',', 'POCKET-1', 'KENDRIVA', 'VIHAR-2', 'SECTOR-62', 'Noida', '”', 'Noida', '‘', 'Gautam', 'Buddha', 'Nagar', 'Gautam', 'Buddha', 'Nagar', 'HRA', 'UPN', 'Tale', '#', 'H', '/', 'Enrollment', 'No', '.', ':', '2019/22072/05296', 'To', 'Nalin', 'Bhargava', 'S/O', ':', 'Shashank', 'Bhargava']\n"
     ]
    }
   ],
   "source": [
    "from nltk.tokenize import word_tokenize\n",
    "tokenized_word = word_tokenize(text)\n",
    "print(tokenized_word)"
   ]
  },
  {
   "cell_type": "code",
   "execution_count": 51,
   "metadata": {},
   "outputs": [
    {
     "name": "stdout",
     "output_type": "stream",
     "text": [
      "<FreqDist with 47 samples and 65 outcomes>\n"
     ]
    }
   ],
   "source": [
    "from nltk.probability import FreqDist\n",
    "fdist = FreqDist(tokenized_word)\n",
    "print(fdist)"
   ]
  },
  {
   "cell_type": "code",
   "execution_count": 52,
   "metadata": {},
   "outputs": [
    {
     "data": {
      "text/plain": [
       "[(':', 5), ('Bhargava', 4)]"
      ]
     },
     "execution_count": 52,
     "metadata": {},
     "output_type": "execute_result"
    }
   ],
   "source": [
    "fdist.most_common(2)"
   ]
  },
  {
   "cell_type": "code",
   "execution_count": 53,
   "metadata": {},
   "outputs": [
    {
     "data": {
      "image/png": "[encoded data removed]",
      "text/plain": [
       "<Figure size 432x288 with 1 Axes>"
      ]
     },
     "metadata": {
      "needs_background": "light"
     },
     "output_type": "display_data"
    }
   ],
   "source": [
    "import matplotlib.pyplot as plt\n",
    "fdist.plot(30,cumulative=False)\n",
    "plt.show()"
   ]
  },
  {
   "cell_type": "code",
   "execution_count": 54,
   "metadata": {},
   "outputs": [
    {
     "name": "stdout",
     "output_type": "stream",
     "text": [
      "{'who', 'does', 'because', \"hasn't\", 'being', 'were', 'having', 'should', 'after', 're', 'than', \"isn't\", 'their', 'during', 'under', 'aren', 'between', 'it', 'over', 'further', 'i', 'there', 'both', 'haven', 'his', 'same', 'shouldn', 'needn', 'the', 'them', 'her', 'these', 'here', 'own', 'very', \"aren't\", 'am', 'against', 'is', 'how', 'ain', \"it's\", 'with', 'too', 'each', 'been', 'off', \"weren't\", 'where', \"wouldn't\", 'don', 'won', 'through', 'our', 'again', \"hadn't\", 'ours', \"that'll\", 'nor', 'm', \"doesn't\", 'as', 've', 'to', 'more', 'into', 'my', 'mustn', 'by', \"should've\", \"you've\", 'y', 'yourselves', 'weren', 'below', \"you're\", 'most', 'at', 'itself', 'your', 'a', 'have', 'what', 'or', 'do', 'out', 'up', 'but', \"you'll\", 'doesn', 'few', 'its', 'not', 'whom', 'once', \"shouldn't\", 'himself', 'was', 'be', 'they', 'such', 'me', 'shan', \"wasn't\", 'of', 'yourself', 'he', 'had', 'some', 'so', 'before', 'can', 'for', 'now', 'any', 'o', 't', 'him', 'until', 'this', 'you', 'when', 'ma', 'other', 'will', 'are', 'no', 'hers', 'about', \"didn't\", 'doing', 'hadn', 'she', 'those', \"couldn't\", 'then', \"won't\", 'theirs', 'only', 'didn', \"she's\", \"mightn't\", 'd', 'isn', 'if', \"haven't\", \"needn't\", 'has', 'all', 'mightn', 'while', \"shan't\", 'which', 'couldn', 's', 'why', 'hasn', 'll', 'from', \"you'd\", 'we', 'above', \"don't\", \"mustn't\", 'down', 'an', 'in', 'just', 'on', 'wasn', 'herself', 'and', 'myself', 'did', 'ourselves', 'themselves', 'yours', 'that', 'wouldn'}\n"
     ]
    }
   ],
   "source": [
    "from nltk.corpus import stopwords\n",
    "stop_words = set(stopwords.words(\"english\"))\n",
    "print(stop_words)"
   ]
  },
  {
   "cell_type": "code",
   "execution_count": 55,
   "metadata": {},
   "outputs": [
    {
     "name": "stdout",
     "output_type": "stream",
     "text": [
      "tokenized sentence: [' \\n\\x0c\\n \\n\\n   \\n  \\n\\nNalin Bhargava\\nwen fa / DOB : 21/01/2001\\nFP Male\\n\\n \\n\\n \\n\\n \\n\\x0c\\n0618\\n\\x0c\\n9781\\n\\x0c\\n7507\\n\\x0c\\n \\n\\n \\n\\n2 PTAA\\n\\nMN543752933FT\\n\\n \\n\\n \\n\\nFTTT 3G HATH / Your Aadhaar No.', ':\\n\\n \\n\\n \\n\\x0c\\n\\x0c\\n \\n\\n> S/O: Shashank Bhargava\\n© 6-112, POCKET-1 KENDRIVA VIHAR-2\\nSECTOR-62\\nNoida\\n” Noida\\n‘Gautam Buddha Nagar Gautam Buddha Nagar\\n\\n \\n\\n \\n\\x0c\\n\\x0c\\n \\n\\nHRA UPN\\n\\nTale #H / Enrollment No.', ': 2019/22072/05296\\n\\nTo\\n\\nNalin Bhargava\\nS/O: Shashank Bhargava']\n",
      "filtered senetence: [' \\n\\x0c\\n \\n\\n   \\n  \\n\\nNalin Bhargava\\nwen fa / DOB : 21/01/2001\\nFP Male\\n\\n \\n\\n \\n\\n \\n\\x0c\\n0618\\n\\x0c\\n9781\\n\\x0c\\n7507\\n\\x0c\\n \\n\\n \\n\\n2 PTAA\\n\\nMN543752933FT\\n\\n \\n\\n \\n\\nFTTT 3G HATH / Your Aadhaar No.', ':\\n\\n \\n\\n \\n\\x0c\\n\\x0c\\n \\n\\n> S/O: Shashank Bhargava\\n© 6-112, POCKET-1 KENDRIVA VIHAR-2\\nSECTOR-62\\nNoida\\n” Noida\\n‘Gautam Buddha Nagar Gautam Buddha Nagar\\n\\n \\n\\n \\n\\x0c\\n\\x0c\\n \\n\\nHRA UPN\\n\\nTale #H / Enrollment No.', ': 2019/22072/05296\\n\\nTo\\n\\nNalin Bhargava\\nS/O: Shashank Bhargava']\n"
     ]
    }
   ],
   "source": [
    "filtered_sent = []\n",
    "for w in tokenized_text:\n",
    "    if w not in stop_words:\n",
    "        filtered_sent.append(w)\n",
    "print(\"tokenized sentence:\",tokenized_text)\n",
    "print(\"filtered senetence:\",filtered_sent)"
   ]
  },
  {
   "cell_type": "code",
   "execution_count": 56,
   "metadata": {},
   "outputs": [
    {
     "name": "stdout",
     "output_type": "stream",
     "text": [
      "Filtered Sentence: [' \\n\\x0c\\n \\n\\n   \\n  \\n\\nNalin Bhargava\\nwen fa / DOB : 21/01/2001\\nFP Male\\n\\n \\n\\n \\n\\n \\n\\x0c\\n0618\\n\\x0c\\n9781\\n\\x0c\\n7507\\n\\x0c\\n \\n\\n \\n\\n2 PTAA\\n\\nMN543752933FT\\n\\n \\n\\n \\n\\nFTTT 3G HATH / Your Aadhaar No.', ':\\n\\n \\n\\n \\n\\x0c\\n\\x0c\\n \\n\\n> S/O: Shashank Bhargava\\n© 6-112, POCKET-1 KENDRIVA VIHAR-2\\nSECTOR-62\\nNoida\\n” Noida\\n‘Gautam Buddha Nagar Gautam Buddha Nagar\\n\\n \\n\\n \\n\\x0c\\n\\x0c\\n \\n\\nHRA UPN\\n\\nTale #H / Enrollment No.', ': 2019/22072/05296\\n\\nTo\\n\\nNalin Bhargava\\nS/O: Shashank Bhargava']\n",
      "Stemmed Sentence: [' \\n\\x0c\\n \\n\\n   \\n  \\n\\nnalin bhargava\\nwen fa / dob : 21/01/2001\\nfp male\\n\\n \\n\\n \\n\\n \\n\\x0c\\n0618\\n\\x0c\\n9781\\n\\x0c\\n7507\\n\\x0c\\n \\n\\n \\n\\n2 ptaa\\n\\nmn543752933ft\\n\\n \\n\\n \\n\\nfttt 3g hath / your aadhaar no.', ':\\n\\n \\n\\n \\n\\x0c\\n\\x0c\\n \\n\\n> s/o: shashank bhargava\\n© 6-112, pocket-1 kendriva vihar-2\\nsector-62\\nnoida\\n” noida\\n‘gautam buddha nagar gautam buddha nagar\\n\\n \\n\\n \\n\\x0c\\n\\x0c\\n \\n\\nhra upn\\n\\ntale #h / enrollment no.', ': 2019/22072/05296\\n\\nto\\n\\nnalin bhargava\\ns/o: shashank bhargava']\n"
     ]
    }
   ],
   "source": [
    "from nltk.stem import PorterStemmer\n",
    "from nltk.tokenize import sent_tokenize, word_tokenize\n",
    "\n",
    "ps = PorterStemmer()\n",
    "\n",
    "stemmed_Words = []\n",
    "for w in filtered_sent:\n",
    "    stemmed_Words.append(ps.stem(w))\n",
    "\n",
    "print(\"Filtered Sentence:\",filtered_sent)\n",
    "print(\"Stemmed Sentence:\",stemmed_Words)"
   ]
  },
  {
   "cell_type": "code",
   "execution_count": null,
   "metadata": {},
   "outputs": [],
   "source": []
  },
  {
   "cell_type": "code",
   "execution_count": 57,
   "metadata": {},
   "outputs": [
    {
     "data": {
      "text/plain": [
       "'!\"#$%&\\'()*+,-./:;<=>?@[\\\\]^_`{|}~'"
      ]
     },
     "execution_count": 57,
     "metadata": {},
     "output_type": "execute_result"
    }
   ],
   "source": [
    "import string\n",
    "string.punctuation\n"
   ]
  },
  {
   "cell_type": "code",
   "execution_count": 58,
   "metadata": {},
   "outputs": [],
   "source": [
    "def remove_punctuation(text):\n",
    "    no_punct=[words for words in text if words not in string.punctation]\n",
    "    words_wo_punct=''.join(no_punct)\n",
    "    return words_wo_punct\n",
    "\n",
    "#stemmed_Words = remove_punctuation(stemmed_Words)"
   ]
  },
  {
   "cell_type": "code",
   "execution_count": 59,
   "metadata": {},
   "outputs": [],
   "source": [
    "with open(r\"C:\\Courses\\Internship\\recognized.txt\", \"r\") as f:\n",
    "\texpenses_txt = f.readlines()\n",
    "# Put all the lines into a single string\n",
    "whole_txt = \"\".join(expenses_txt)"
   ]
  },
  {
   "cell_type": "code",
   "execution_count": 60,
   "metadata": {},
   "outputs": [],
   "source": [
    "PATTERN = r'(^([\\d]+)([\\.]?)([\\d]*))( - )(.*)'"
   ]
  },
  {
   "cell_type": "code",
   "execution_count": 61,
   "metadata": {},
   "outputs": [
    {
     "data": {
      "text/plain": [
       "' \\n\\x0c\\n \\n\\n   \\n  \\n\\nNalin Bhargava\\nwen fa / DOB : 21/01/2001\\nFP Male\\n\\n \\n\\n \\n\\n \\n\\x0c\\n0618\\n\\x0c\\n9781\\n\\x0c\\n7507\\n\\x0c\\n \\n\\n \\n\\n2 PTAA\\n\\nMN543752933FT\\n\\n \\n\\n \\n\\nFTTT 3G HATH / Your Aadhaar No. :\\n\\n \\n\\n \\n\\x0c\\n\\x0c\\n \\n\\n> S/O: Shashank Bhargava\\n© 6-112, POCKET-1 KENDRIVA VIHAR-2\\nSECTOR-62\\nNoida\\n” Noida\\n‘Gautam Buddha Nagar Gautam Buddha Nagar\\n\\n \\n\\n \\n\\x0c\\n\\x0c\\n \\n\\nHRA UPN\\n\\nTale #H / Enrollment No.: 2019/22072/05296\\n\\nTo\\n\\nNalin Bhargava\\nS/O: Shashank Bhargava\\n\\n \\n\\n \\n\\x0c\\n'"
      ]
     },
     "execution_count": 61,
     "metadata": {},
     "output_type": "execute_result"
    }
   ],
   "source": [
    "whole_txt\n"
   ]
  },
  {
   "cell_type": "code",
   "execution_count": 62,
   "metadata": {},
   "outputs": [
    {
     "name": "stderr",
     "output_type": "stream",
     "text": [
      "<ipython-input-62-2c8b7a18b50a>:3: DeprecationWarning: The unescape method is deprecated and will be removed in 3.5, use html.unescape() instead.\n",
      "  whole_txt = HTMLParser().unescape(whole_txt)\n"
     ]
    },
    {
     "data": {
      "text/plain": [
       "' \\n\\x0c\\n \\n\\n   \\n  \\n\\nNalin Bhargava\\nwen fa / DOB : 21/01/2001\\nFP Male\\n\\n \\n\\n \\n\\n \\n\\x0c\\n0618\\n\\x0c\\n9781\\n\\x0c\\n7507\\n\\x0c\\n \\n\\n \\n\\n2 PTAA\\n\\nMN543752933FT\\n\\n \\n\\n \\n\\nFTTT 3G HATH / Your Aadhaar No. :\\n\\n \\n\\n \\n\\x0c\\n\\x0c\\n \\n\\n> S/O: Shashank Bhargava\\n© 6-112, POCKET-1 KENDRIVA VIHAR-2\\nSECTOR-62\\nNoida\\n” Noida\\n‘Gautam Buddha Nagar Gautam Buddha Nagar\\n\\n \\n\\n \\n\\x0c\\n\\x0c\\n \\n\\nHRA UPN\\n\\nTale #H / Enrollment No.: 2019/22072/05296\\n\\nTo\\n\\nNalin Bhargava\\nS/O: Shashank Bhargava\\n\\n \\n\\n \\n\\x0c\\n'"
      ]
     },
     "execution_count": 62,
     "metadata": {},
     "output_type": "execute_result"
    }
   ],
   "source": [
    "from html.parser import HTMLParser\n",
    "\n",
    "whole_txt = HTMLParser().unescape(whole_txt)\n",
    "whole_txt"
   ]
  },
  {
   "cell_type": "code",
   "execution_count": 63,
   "metadata": {},
   "outputs": [
    {
     "data": {
      "text/plain": [
       "' \\n\\x0c\\n \\n\\n   \\n  \\n\\nNalin Bhargava\\nwen fa / DOB : 21/01/2001\\nFP Male\\n\\n \\n\\n \\n\\n \\n\\x0c\\n0618\\n\\x0c\\n9781\\n\\x0c\\n7507\\n\\x0c\\n \\n\\n \\n\\n2 PTAA\\n\\nMN543752933FT\\n\\n \\n\\n \\n\\nFTTT 3G HATH / Your Aadhaar No. :\\n\\n \\n\\n \\n\\x0c\\n\\x0c\\n \\n\\n> S/O: Shashank Bhargava\\n© 6-112, POCKET-1 KENDRIVA VIHAR-2\\nSECTOR-62\\nNoida\\n” Noida\\n‘Gautam Buddha Nagar Gautam Buddha Nagar\\n\\n \\n\\n \\n\\x0c\\n\\x0c\\n \\n\\nHRA UPN\\n\\nTale H / Enrollment No.: 2019/22072/05296\\n\\nTo\\n\\nNalin Bhargava\\nS/O: Shashank Bhargava\\n\\n \\n\\n \\n\\x0c\\n'"
      ]
     },
     "execution_count": 63,
     "metadata": {},
     "output_type": "execute_result"
    }
   ],
   "source": [
    "import re \n",
    "\n",
    "whole_txt = re.sub(r'https?:\\/\\/.\\S+',\"\",whole_txt)\n",
    "\n",
    "whole_txt = re.sub(r'#','',whole_txt)\n",
    "\n",
    "whole_txt = re.sub(r'^RT[\\s]+','',whole_txt)\n",
    "\n",
    "whole_txt"
   ]
  },
  {
   "cell_type": "code",
   "execution_count": 64,
   "metadata": {},
   "outputs": [
    {
     "data": {
      "text/plain": [
       "' \\x0c      Nalin Bhargavawen fa / DOB : 21/01/2001FP Male   \\x0c0618\\x0c9781\\x0c7507\\x0c  2 PTAAMN543752933FT  FTTT 3G HATH / Your Aadhaar No. :  \\x0c\\x0c > S/O: Shashank Bhargava© 6-112, POCKET-1 KENDRIVA VIHAR-2SECTOR-62Noida” Noida‘Gautam Buddha Nagar Gautam Buddha Nagar  \\x0c\\x0c HRA UPNTale H / Enrollment No.: 2019/22072/05296ToNalin BhargavaS/O: Shashank Bhargava  \\x0c'"
      ]
     },
     "execution_count": 64,
     "metadata": {},
     "output_type": "execute_result"
    }
   ],
   "source": [
    "whole_txt = re.sub(\"\\n\",\"\",whole_txt)\n",
    "whole_txt"
   ]
  },
  {
   "cell_type": "code",
   "execution_count": 65,
   "metadata": {},
   "outputs": [
    {
     "data": {
      "text/plain": [
       "'       Nalin Bhargavawen fa / DOB : 21/01/2001FP Male   061897817507  2 PTAAMN543752933FT  FTTT 3G HATH / Your Aadhaar No. :   > S/O: Shashank Bhargava© 6-112, POCKET-1 KENDRIVA VIHAR-2SECTOR-62Noida” Noida‘Gautam Buddha Nagar Gautam Buddha Nagar   HRA UPNTale H / Enrollment No.: 2019/22072/05296ToNalin BhargavaS/O: Shashank Bhargava  '"
      ]
     },
     "execution_count": 65,
     "metadata": {},
     "output_type": "execute_result"
    }
   ],
   "source": [
    "whole_txt = re.sub(\"\\x0c\",\"\",whole_txt)\n",
    "whole_txt"
   ]
  },
  {
   "cell_type": "code",
   "execution_count": 66,
   "metadata": {},
   "outputs": [
    {
     "name": "stdout",
     "output_type": "stream",
     "text": [
      "Nalin Bhargavawen fa / DOB PERSON\n",
      "21/01/2001FP CARDINAL\n",
      "2 CARDINAL\n",
      "Shashank Bhargava© PERSON\n",
      "Buddha Nagar PERSON\n",
      "HRA UPNTale H / Enrollment ORG\n",
      "2019/22072/05296ToNalin CARDINAL\n",
      "BhargavaS GPE\n",
      "Shashank Bhargava   PERSON\n"
     ]
    },
    {
     "data": {
      "text/html": [
       "<span class=\"tex2jax_ignore\"><div class=\"entities\" style=\"line-height: 2.5; direction: ltr\">       \n",
       "<mark class=\"entity\" style=\"background: #aa9cfc; padding: 0.45em 0.6em; margin: 0 0.25em; line-height: 1; border-radius: 0.35em;\">\n",
       "    Nalin Bhargavawen fa / DOB\n",
       "    <span style=\"font-size: 0.8em; font-weight: bold; line-height: 1; border-radius: 0.35em; vertical-align: middle; margin-left: 0.5rem\">PERSON</span>\n",
       "</mark>\n",
       " : \n",
       "<mark class=\"entity\" style=\"background: #e4e7d2; padding: 0.45em 0.6em; margin: 0 0.25em; line-height: 1; border-radius: 0.35em;\">\n",
       "    21/01/2001FP\n",
       "    <span style=\"font-size: 0.8em; font-weight: bold; line-height: 1; border-radius: 0.35em; vertical-align: middle; margin-left: 0.5rem\">CARDINAL</span>\n",
       "</mark>\n",
       " Male   061897817507  \n",
       "<mark class=\"entity\" style=\"background: #e4e7d2; padding: 0.45em 0.6em; margin: 0 0.25em; line-height: 1; border-radius: 0.35em;\">\n",
       "    2\n",
       "    <span style=\"font-size: 0.8em; font-weight: bold; line-height: 1; border-radius: 0.35em; vertical-align: middle; margin-left: 0.5rem\">CARDINAL</span>\n",
       "</mark>\n",
       " PTAAMN543752933FT  FTTT 3G HATH / Your Aadhaar No. :   &gt; S/O: \n",
       "<mark class=\"entity\" style=\"background: #aa9cfc; padding: 0.45em 0.6em; margin: 0 0.25em; line-height: 1; border-radius: 0.35em;\">\n",
       "    Shashank Bhargava©\n",
       "    <span style=\"font-size: 0.8em; font-weight: bold; line-height: 1; border-radius: 0.35em; vertical-align: middle; margin-left: 0.5rem\">PERSON</span>\n",
       "</mark>\n",
       " 6-112, POCKET-1 KENDRIVA VIHAR-2SECTOR-62Noida” Noida‘Gautam Buddha Nagar Gautam \n",
       "<mark class=\"entity\" style=\"background: #aa9cfc; padding: 0.45em 0.6em; margin: 0 0.25em; line-height: 1; border-radius: 0.35em;\">\n",
       "    Buddha Nagar\n",
       "    <span style=\"font-size: 0.8em; font-weight: bold; line-height: 1; border-radius: 0.35em; vertical-align: middle; margin-left: 0.5rem\">PERSON</span>\n",
       "</mark>\n",
       "   \n",
       "<mark class=\"entity\" style=\"background: #7aecec; padding: 0.45em 0.6em; margin: 0 0.25em; line-height: 1; border-radius: 0.35em;\">\n",
       "    HRA UPNTale H / Enrollment\n",
       "    <span style=\"font-size: 0.8em; font-weight: bold; line-height: 1; border-radius: 0.35em; vertical-align: middle; margin-left: 0.5rem\">ORG</span>\n",
       "</mark>\n",
       " No.: \n",
       "<mark class=\"entity\" style=\"background: #e4e7d2; padding: 0.45em 0.6em; margin: 0 0.25em; line-height: 1; border-radius: 0.35em;\">\n",
       "    2019/22072/05296ToNalin\n",
       "    <span style=\"font-size: 0.8em; font-weight: bold; line-height: 1; border-radius: 0.35em; vertical-align: middle; margin-left: 0.5rem\">CARDINAL</span>\n",
       "</mark>\n",
       " \n",
       "<mark class=\"entity\" style=\"background: #feca74; padding: 0.45em 0.6em; margin: 0 0.25em; line-height: 1; border-radius: 0.35em;\">\n",
       "    BhargavaS\n",
       "    <span style=\"font-size: 0.8em; font-weight: bold; line-height: 1; border-radius: 0.35em; vertical-align: middle; margin-left: 0.5rem\">GPE</span>\n",
       "</mark>\n",
       "/O: \n",
       "<mark class=\"entity\" style=\"background: #aa9cfc; padding: 0.45em 0.6em; margin: 0 0.25em; line-height: 1; border-radius: 0.35em;\">\n",
       "    Shashank Bhargava  \n",
       "    <span style=\"font-size: 0.8em; font-weight: bold; line-height: 1; border-radius: 0.35em; vertical-align: middle; margin-left: 0.5rem\">PERSON</span>\n",
       "</mark>\n",
       "</div></span>"
      ],
      "text/plain": [
       "<IPython.core.display.HTML object>"
      ]
     },
     "metadata": {},
     "output_type": "display_data"
    }
   ],
   "source": [
    "import spacy\n",
    "import pandas as pd\n",
    "\n",
    "from spacy import displacy\n",
    "\n",
    "NER = spacy.load(\"en_core_web_lg\")\n",
    "\n",
    "#raw_text = open(r\"C:\\Courses\\Internship\\recognized.txt\",\"r+\") \n",
    "#raw_text = raw_text.read()\n",
    "\n",
    "text1 = NER(whole_txt)\n",
    "\n",
    "for word in text1.ents:\n",
    "\tprint(word.text,word.label_)\n",
    "\n",
    "displacy.render(text1,style=\"ent\",jupyter=True)"
   ]
  },
  {
   "cell_type": "code",
   "execution_count": null,
   "metadata": {},
   "outputs": [],
   "source": []
  }
 ],
 "metadata": {
  "kernelspec": {
   "display_name": "Python 3",
   "language": "python",
   "name": "python3"
  },
  "language_info": {
   "codemirror_mode": {
    "name": "ipython",
    "version": 3
   },
   "file_extension": ".py",
   "mimetype": "text/x-python",
   "name": "python",
   "nbconvert_exporter": "python",
   "pygments_lexer": "ipython3",
   "version": "3.8.3"
  }
 },
 "nbformat": 4,
 "nbformat_minor": 4
}
